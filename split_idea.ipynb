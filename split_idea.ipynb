{
 "cells": [
  {
   "cell_type": "code",
   "execution_count": 1,
   "metadata": {
    "collapsed": false
   },
   "outputs": [],
   "source": [
    "import os\n",
    "import numpy as np\n",
    "import astropy.io.fits as fits\n",
    "import matplotlib.pyplot as plt\n",
    "%matplotlib inline\n",
    "from sklearn.cluster import KMeans"
   ]
  },
  {
   "cell_type": "code",
   "execution_count": 2,
   "metadata": {
    "collapsed": false
   },
   "outputs": [],
   "source": [
    "def pad(l, size):\n",
    "    return l + [0 for i in range(size - len(l))]\n",
    "\n",
    "def split_lst(l, sec):\n",
    "    split_l = []\n",
    "    n = int(np.floor(len(l)/float(sec)))\n",
    "    for i in range(n):\n",
    "        split_l.append(l[i*sec:(i+1)*sec])\n",
    "    if len(l) > n*sec:\n",
    "        split_l.append(pad(l[(n*sec):],sec))\n",
    "    return split_l\n",
    "\n",
    "def flatten(list_of_lists):\n",
    "    flat = []\n",
    "    for l in list_of_lists:\n",
    "        for item in l:\n",
    "            flat.append(item)\n",
    "    return flat\n",
    "\n",
    "def read_initial_data(path):\n",
    "    '''Args: path to FITS data files.\n",
    "       Returns: a re-formatted time series, lengths, intervals\n",
    "    '''\n",
    "    count = 0\n",
    "    rates = []\n",
    "    lengths = []\n",
    "    time_int = []\n",
    "    max_rate = 0.\n",
    "    for filename in sorted(os.listdir(path)):\n",
    "        count += 1\n",
    "        if count % 1000 == 0:\n",
    "            print \"Reading timeseries:\", count\n",
    "        #print count, filename\n",
    "        with fits.open(path+filename, memmap=False) as example:\n",
    "            hdu = example[1]\n",
    "            time = hdu.data.field(\"TIME\")\n",
    "            rate = hdu.data.field(\"RATE\")\n",
    "            #print \"Rate length\", len(rate)\n",
    "            #error = hdu.data.field(\"ERROR\")\n",
    "            #print len(time), len(rate), len(error)\n",
    "            max_rate = max(max_rate, max(rate))\n",
    "            avg_time = np.mean([time[i+1] - time[i] for i in range(len(time) -1)])\n",
    "            time_int.append(avg_time)\n",
    "            rates.append(rate)\n",
    "            lengths.append(len(rate))\n",
    "            del example\n",
    "    # Split timeseries into 30-sec chuncks\n",
    "    rates = [split_lst(list(rate), 30) for rate in rates]\n",
    "    # Normalize time series\n",
    "    rates = [np.array(rate)/max_rate for rate in rates]\n",
    "    return rates, lengths, time_int"
   ]
  },
  {
   "cell_type": "code",
   "execution_count": 3,
   "metadata": {
    "collapsed": false
   },
   "outputs": [
    {
     "name": "stdout",
     "output_type": "stream",
     "text": [
      "Reading timeseries: 1000\n",
      "Reading timeseries: 2000\n",
      "Reading timeseries: 3000\n",
      "Reading timeseries: 4000\n",
      "Reading timeseries: 5000\n",
      "Reading timeseries: 6000\n"
     ]
    },
    {
     "name": "stderr",
     "output_type": "stream",
     "text": [
      "/Users/kati/Envs/datascience/lib/python2.7/site-packages/numpy/core/_methods.py:59: RuntimeWarning: Mean of empty slice.\n",
      "  warnings.warn(\"Mean of empty slice.\", RuntimeWarning)\n",
      "/Users/kati/Envs/datascience/lib/python2.7/site-packages/numpy/core/_methods.py:70: RuntimeWarning: invalid value encountered in double_scalars\n",
      "  ret = ret.dtype.type(ret / rcount)\n"
     ]
    },
    {
     "name": "stdout",
     "output_type": "stream",
     "text": [
      "Reading timeseries: 7000\n",
      "Reading timeseries: 8000\n",
      "Reading timeseries: 9000\n",
      "Reading timeseries: 10000\n",
      "Reading timeseries: 11000\n",
      "Reading timeseries: 12000\n",
      "Reading timeseries: 13000\n"
     ]
    }
   ],
   "source": [
    "# Read data\n",
    "data_path = \"/Users/kati/Downloads/blackhole_nlp/nicedata_for_daniela/\"\n",
    "rates, lengths, time_int = read_initial_data(data_path)"
   ]
  },
  {
   "cell_type": "code",
   "execution_count": 33,
   "metadata": {
    "collapsed": false
   },
   "outputs": [
    {
     "name": "stdout",
     "output_type": "stream",
     "text": [
      "Time series with avg time interval > 1: 1645\n"
     ]
    }
   ],
   "source": [
    "print \"Time series with avg time interval > 1:\", len([ts for ts in time_int if ts > 1.0])"
   ]
  },
  {
   "cell_type": "code",
   "execution_count": 34,
   "metadata": {
    "collapsed": false
   },
   "outputs": [
    {
     "data": {
      "text/plain": [
       "<matplotlib.text.Text at 0x11799c7d0>"
      ]
     },
     "execution_count": 34,
     "metadata": {},
     "output_type": "execute_result"
    },
    {
     "data": {
      "image/png": "[encoded data removed]",
      "text/plain": [
       "<matplotlib.figure.Figure at 0x10ffec850>"
      ]
     },
     "metadata": {},
     "output_type": "display_data"
    }
   ],
   "source": [
    "# Histogram of time series lengths\n",
    "plt.hist(lengths, bins=100)\n",
    "plt.title(\"Time Series Lengths Histogram\")"
   ]
  },
  {
   "cell_type": "code",
   "execution_count": null,
   "metadata": {
    "collapsed": false
   },
   "outputs": [],
   "source": [
    "# Split time series into smaller chunks\n",
    "mini_ts = flatten(rates)\n",
    "# Run k-means on the chunks\n",
    "kmeans = KMeans(n_clusters=10000, random_state=0).fit(mini_ts)\n",
    "# Plot cluster assignments \n",
    "plt.hist(kmeans.labels_, bins=10000)\n",
    "plt.title(\"Cluster Centers Histogram\")"
   ]
  },
  {
   "cell_type": "code",
   "execution_count": null,
   "metadata": {
    "collapsed": true
   },
   "outputs": [],
   "source": []
  }
 ],
 "metadata": {
  "kernelspec": {
   "display_name": "Python 2",
   "language": "python",
   "name": "python2"
  },
  "language_info": {
   "codemirror_mode": {
    "name": "ipython",
    "version": 2
   },
   "file_extension": ".py",
   "mimetype": "text/x-python",
   "name": "python",
   "nbconvert_exporter": "python",
   "pygments_lexer": "ipython2",
   "version": "2.7.12"
  }
 },
 "nbformat": 4,
 "nbformat_minor": 1
}
