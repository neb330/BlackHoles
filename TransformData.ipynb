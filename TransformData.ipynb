{
 "cells": [
  {
   "cell_type": "code",
   "execution_count": 1,
   "metadata": {
    "collapsed": false
   },
   "outputs": [
    {
     "name": "stderr",
     "output_type": "stream",
     "text": [
      "//anaconda/envs/py27/lib/python2.7/site-packages/IPython/html.py:14: ShimWarning: The `IPython.html` package has been deprecated. You should import from `notebook` instead. `IPython.html.widgets` has moved to `ipywidgets`.\n",
      "  \"`IPython.html.widgets` has moved to `ipywidgets`.\", ShimWarning)\n"
     ]
    }
   ],
   "source": [
    "%matplotlib inline\n",
    "import matplotlib.pyplot as plt\n",
    "from FATS import *\n",
    "import seaborn\n",
    "import numpy as np\n",
    "import pandas as pd\n",
    "from ipy_table import *\n",
    "import os\n",
    "# import seaborn for prettiness of plots; you don't have to do that!\n",
    "import seaborn as sns\n",
    "\n",
    "import astropy.io.fits as fits"
   ]
  },
  {
   "cell_type": "code",
   "execution_count": 3,
   "metadata": {
    "collapsed": false
   },
   "outputs": [],
   "source": [
    "count = 0\n",
    "times = []\n",
    "rates = []\n",
    "errors = []\n",
    "file_handles = []\n",
    "datadir = \"nicedata_for_daniela/\"\n",
    "for filename in os.listdir(datadir):\n",
    "    with fits.open(datadir+filename, memmap=False) as example:\n",
    "        hdu = example[1]\n",
    "        time = hdu.data.field(\"TIME\")\n",
    "        rate = hdu.data.field(\"RATE\")\n",
    "        error = hdu.data.field(\"ERROR\")\n",
    "        times.append(time)\n",
    "        rates.append(rate)\n",
    "        errors.append(error)\n",
    "        del example\n"
   ]
  },
  {
   "cell_type": "code",
   "execution_count": 4,
   "metadata": {
    "collapsed": false
   },
   "outputs": [
    {
     "name": "stdout",
     "output_type": "stream",
     "text": [
      "(13293, 13293, 13293)\n"
     ]
    }
   ],
   "source": [
    "print(len(rates), len(errors), len(times))"
   ]
  },
  {
   "cell_type": "code",
   "execution_count": null,
   "metadata": {
    "collapsed": true
   },
   "outputs": [],
   "source": [
    "#This takes a long time to run, haven't actually let it run through. Might need to find another option\n",
    "features = []\n",
    "for time, error, rate in zip(times, errors, rates):\n",
    "    ts = np.array([rate,time,error])\n",
    "    a = FeatureSpace(Data=['magnitude','time','error'], featureList = None, excludeList = ['interp1d','Color','Eta_color','Q31_color','StetsonJ','StetsonL'])\n",
    "    a=a.calculateFeature(ts)\n",
    "    feature = a.result(method = 'array')\n",
    "    features.append(feature)"
   ]
  },
  {
   "cell_type": "code",
   "execution_count": 12,
   "metadata": {
    "collapsed": false
   },
   "outputs": [
    {
     "data": {
      "text/html": [
       "<div>\n",
       "<table border=\"1\" class=\"dataframe\">\n",
       "  <thead>\n",
       "    <tr style=\"text-align: right;\">\n",
       "      <th></th>\n",
       "      <th>Amplitude</th>\n",
       "      <th>AndersonDarling</th>\n",
       "      <th>Autocor_length</th>\n",
       "      <th>Beyond1Std</th>\n",
       "      <th>CAR_mean</th>\n",
       "      <th>CAR_sigma</th>\n",
       "      <th>CAR_tau</th>\n",
       "      <th>Con</th>\n",
       "      <th>Eta_e</th>\n",
       "      <th>FluxPercentileRatioMid20</th>\n",
       "      <th>...</th>\n",
       "      <th>Rcs</th>\n",
       "      <th>Skew</th>\n",
       "      <th>SlottedA_length</th>\n",
       "      <th>SmallKurtosis</th>\n",
       "      <th>Std</th>\n",
       "      <th>StetsonK</th>\n",
       "      <th>StetsonK_AC</th>\n",
       "      <th>StructureFunction_index_21</th>\n",
       "      <th>StructureFunction_index_31</th>\n",
       "      <th>StructureFunction_index_32</th>\n",
       "    </tr>\n",
       "  </thead>\n",
       "  <tbody>\n",
       "    <tr>\n",
       "      <th>0</th>\n",
       "      <td>41.5</td>\n",
       "      <td>0.603392</td>\n",
       "      <td>1.0</td>\n",
       "      <td>0.313725</td>\n",
       "      <td>1331.982227</td>\n",
       "      <td>18.565130</td>\n",
       "      <td>0.296373</td>\n",
       "      <td>0.0</td>\n",
       "      <td>1.996440</td>\n",
       "      <td>0.159420</td>\n",
       "      <td>...</td>\n",
       "      <td>0.038761</td>\n",
       "      <td>-0.060099</td>\n",
       "      <td>1.0</td>\n",
       "      <td>0.089537</td>\n",
       "      <td>20.867091</td>\n",
       "      <td>0.794071</td>\n",
       "      <td>0.382353</td>\n",
       "      <td>1.554007</td>\n",
       "      <td>1.886116</td>\n",
       "      <td>1.448212</td>\n",
       "    </tr>\n",
       "    <tr>\n",
       "      <th>1</th>\n",
       "      <td>38.5</td>\n",
       "      <td>0.997050</td>\n",
       "      <td>1.0</td>\n",
       "      <td>0.317314</td>\n",
       "      <td>0.355114</td>\n",
       "      <td>0.442412</td>\n",
       "      <td>815.642611</td>\n",
       "      <td>0.0</td>\n",
       "      <td>1.574908</td>\n",
       "      <td>0.156250</td>\n",
       "      <td>...</td>\n",
       "      <td>0.198661</td>\n",
       "      <td>0.136262</td>\n",
       "      <td>1.0</td>\n",
       "      <td>-0.004897</td>\n",
       "      <td>19.360669</td>\n",
       "      <td>0.798594</td>\n",
       "      <td>0.271054</td>\n",
       "      <td>2.202519</td>\n",
       "      <td>3.517373</td>\n",
       "      <td>1.621643</td>\n",
       "    </tr>\n",
       "    <tr>\n",
       "      <th>2</th>\n",
       "      <td>38.0</td>\n",
       "      <td>0.996783</td>\n",
       "      <td>1.0</td>\n",
       "      <td>0.312693</td>\n",
       "      <td>639.471923</td>\n",
       "      <td>-0.000014</td>\n",
       "      <td>0.595192</td>\n",
       "      <td>0.0</td>\n",
       "      <td>1.953341</td>\n",
       "      <td>0.177419</td>\n",
       "      <td>...</td>\n",
       "      <td>0.054069</td>\n",
       "      <td>0.268586</td>\n",
       "      <td>1.0</td>\n",
       "      <td>0.132029</td>\n",
       "      <td>19.048493</td>\n",
       "      <td>0.798222</td>\n",
       "      <td>0.389106</td>\n",
       "      <td>2.123694</td>\n",
       "      <td>3.317286</td>\n",
       "      <td>1.604414</td>\n",
       "    </tr>\n",
       "    <tr>\n",
       "      <th>3</th>\n",
       "      <td>37.5</td>\n",
       "      <td>0.541731</td>\n",
       "      <td>1.0</td>\n",
       "      <td>0.313901</td>\n",
       "      <td>7308.498312</td>\n",
       "      <td>29.695919</td>\n",
       "      <td>0.050434</td>\n",
       "      <td>0.0</td>\n",
       "      <td>2.074970</td>\n",
       "      <td>0.156250</td>\n",
       "      <td>...</td>\n",
       "      <td>0.087192</td>\n",
       "      <td>0.013848</td>\n",
       "      <td>1.0</td>\n",
       "      <td>-0.243167</td>\n",
       "      <td>19.594660</td>\n",
       "      <td>0.805480</td>\n",
       "      <td>0.441441</td>\n",
       "      <td>1.599708</td>\n",
       "      <td>1.938143</td>\n",
       "      <td>1.372777</td>\n",
       "    </tr>\n",
       "    <tr>\n",
       "      <th>4</th>\n",
       "      <td>41.0</td>\n",
       "      <td>0.761312</td>\n",
       "      <td>1.0</td>\n",
       "      <td>0.308081</td>\n",
       "      <td>16.707220</td>\n",
       "      <td>1.818893</td>\n",
       "      <td>23.551684</td>\n",
       "      <td>0.0</td>\n",
       "      <td>1.891454</td>\n",
       "      <td>0.161765</td>\n",
       "      <td>...</td>\n",
       "      <td>0.097296</td>\n",
       "      <td>-0.114982</td>\n",
       "      <td>1.0</td>\n",
       "      <td>-0.164339</td>\n",
       "      <td>20.530684</td>\n",
       "      <td>0.804587</td>\n",
       "      <td>0.437127</td>\n",
       "      <td>1.812608</td>\n",
       "      <td>2.538704</td>\n",
       "      <td>1.484551</td>\n",
       "    </tr>\n",
       "  </tbody>\n",
       "</table>\n",
       "<p>5 rows × 63 columns</p>\n",
       "</div>"
      ],
      "text/plain": [
       "   Amplitude  AndersonDarling  Autocor_length  Beyond1Std     CAR_mean  \\\n",
       "0       41.5         0.603392             1.0    0.313725  1331.982227   \n",
       "1       38.5         0.997050             1.0    0.317314     0.355114   \n",
       "2       38.0         0.996783             1.0    0.312693   639.471923   \n",
       "3       37.5         0.541731             1.0    0.313901  7308.498312   \n",
       "4       41.0         0.761312             1.0    0.308081    16.707220   \n",
       "\n",
       "   CAR_sigma     CAR_tau  Con     Eta_e  FluxPercentileRatioMid20  \\\n",
       "0  18.565130    0.296373  0.0  1.996440                  0.159420   \n",
       "1   0.442412  815.642611  0.0  1.574908                  0.156250   \n",
       "2  -0.000014    0.595192  0.0  1.953341                  0.177419   \n",
       "3  29.695919    0.050434  0.0  2.074970                  0.156250   \n",
       "4   1.818893   23.551684  0.0  1.891454                  0.161765   \n",
       "\n",
       "              ...                   Rcs      Skew  SlottedA_length  \\\n",
       "0             ...              0.038761 -0.060099              1.0   \n",
       "1             ...              0.198661  0.136262              1.0   \n",
       "2             ...              0.054069  0.268586              1.0   \n",
       "3             ...              0.087192  0.013848              1.0   \n",
       "4             ...              0.097296 -0.114982              1.0   \n",
       "\n",
       "   SmallKurtosis        Std  StetsonK  StetsonK_AC  \\\n",
       "0       0.089537  20.867091  0.794071     0.382353   \n",
       "1      -0.004897  19.360669  0.798594     0.271054   \n",
       "2       0.132029  19.048493  0.798222     0.389106   \n",
       "3      -0.243167  19.594660  0.805480     0.441441   \n",
       "4      -0.164339  20.530684  0.804587     0.437127   \n",
       "\n",
       "   StructureFunction_index_21  StructureFunction_index_31  \\\n",
       "0                    1.554007                    1.886116   \n",
       "1                    2.202519                    3.517373   \n",
       "2                    2.123694                    3.317286   \n",
       "3                    1.599708                    1.938143   \n",
       "4                    1.812608                    2.538704   \n",
       "\n",
       "   StructureFunction_index_32  \n",
       "0                    1.448212  \n",
       "1                    1.621643  \n",
       "2                    1.604414  \n",
       "3                    1.372777  \n",
       "4                    1.484551  \n",
       "\n",
       "[5 rows x 63 columns]"
      ]
     },
     "execution_count": 12,
     "metadata": {},
     "output_type": "execute_result"
    }
   ],
   "source": [
    "labels = a.result(method = 'features')\n",
    "df = pd.DataFrame(features, columns = labels)\n",
    "df.head()"
   ]
  },
  {
   "cell_type": "code",
   "execution_count": 10,
   "metadata": {
    "collapsed": false
   },
   "outputs": [],
   "source": []
  },
  {
   "cell_type": "code",
   "execution_count": null,
   "metadata": {
    "collapsed": true
   },
   "outputs": [],
   "source": []
  }
 ],
 "metadata": {
  "anaconda-cloud": {},
  "kernelspec": {
   "display_name": "Python [py27]",
   "language": "python",
   "name": "Python [py27]"
  },
  "language_info": {
   "codemirror_mode": {
    "name": "ipython",
    "version": 2
   },
   "file_extension": ".py",
   "mimetype": "text/x-python",
   "name": "python",
   "nbconvert_exporter": "python",
   "pygments_lexer": "ipython2",
   "version": "2.7.12"
  }
 },
 "nbformat": 4,
 "nbformat_minor": 0
}
